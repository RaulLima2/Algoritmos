{
 "cells": [
  {
   "attachments": {},
   "cell_type": "markdown",
   "metadata": {},
   "source": [
    "# Lista de Exercícios - Algoritmos Gulosos"
   ]
  },
  {
   "attachments": {},
   "cell_type": "markdown",
   "metadata": {},
   "source": [
    "## Exercício 1\n",
    "Implemente na sua linguagem de programação favorita o algoritmo para obter o conjunto maximal de eventos. O algoritmo deverá levar $\\Theta(n)$"
   ]
  },
  {
   "cell_type": "code",
   "execution_count": 35,
   "metadata": {},
   "outputs": [],
   "source": [
    "def selecionar_evento(eventos:list[list[int]])->list[list[int]]:\n",
    "    k:int = 0\n",
    "    S:list[list[int]] = [eventos[0]]\n",
    "    for i in range(1, len(eventos)):\n",
    "        if eventos[i][0] >= eventos[k][1]:\n",
    "            S.append(eventos[i])\n",
    "            k += 1\n",
    "    return S"
   ]
  },
  {
   "cell_type": "code",
   "execution_count": 36,
   "metadata": {},
   "outputs": [
    {
     "data": {
      "text/plain": [
       "[[0, 1], [1, 3]]"
      ]
     },
     "execution_count": 36,
     "metadata": {},
     "output_type": "execute_result"
    }
   ],
   "source": [
    "selecionar_evento([[0, 1], [0, 3], [1, 3]])"
   ]
  },
  {
   "attachments": {},
   "cell_type": "markdown",
   "metadata": {},
   "source": [
    "## Problema da mochila fracionária"
   ]
  },
  {
   "cell_type": "code",
   "execution_count": null,
   "metadata": {},
   "outputs": [],
   "source": [
    "k:int = 0\n",
    "w:list[float] = []\n",
    "v:list[float] = []\n",
    "mochila:dict = {}"
   ]
  },
  {
   "cell_type": "code",
   "execution_count": null,
   "metadata": {},
   "outputs": [],
   "source": [
    "def put(k:int, w:list[float], v:list[float], mochila:dict)->dict:\n",
    "    while < k:\n",
    "        \n",
    "\n",
    "    return mochila"
   ]
  }
 ],
 "metadata": {
  "kernelspec": {
   "display_name": "Python 3 (ipykernel)",
   "language": "python",
   "name": "python3"
  },
  "language_info": {
   "codemirror_mode": {
    "name": "ipython",
    "version": 3
   },
   "file_extension": ".py",
   "mimetype": "text/x-python",
   "name": "python",
   "nbconvert_exporter": "python",
   "pygments_lexer": "ipython3",
   "version": "3.10.4"
  },
  "orig_nbformat": 4
 },
 "nbformat": 4,
 "nbformat_minor": 2
}
