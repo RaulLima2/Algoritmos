{
 "cells": [
  {
   "attachments": {},
   "cell_type": "markdown",
   "metadata": {},
   "source": [
    "# Lista de Exercícios - Algoritmos Gulosos"
   ]
  },
  {
   "attachments": {},
   "cell_type": "markdown",
   "metadata": {},
   "source": [
    "## Exercício 1\n",
    "Implemente na sua linguagem de programação favorita o algoritmo para obter o conjunto maximal de eventos. O algoritmo deverá levar $\\Theta(n)$"
   ]
  },
  {
   "cell_type": "code",
   "execution_count": 35,
   "metadata": {
    "vscode": {
     "languageId": "python"
    }
   },
   "outputs": [],
   "source": [
    "def selecionar_evento(eventos:list[list[int]])->list[list[int]]:\n",
    "    k:int = 0\n",
    "    S:list[list[int]] = [eventos[0]]\n",
    "    for i in range(1, len(eventos)):\n",
    "        if eventos[i][0] >= eventos[k][1]:\n",
    "            S.append(eventos[i])\n",
    "            k += 1\n",
    "    return S"
   ]
  },
  {
   "cell_type": "code",
   "execution_count": 36,
   "metadata": {
    "vscode": {
     "languageId": "python"
    }
   },
   "outputs": [
    {
     "data": {
      "text/plain": [
       "[[0, 1], [1, 3]]"
      ]
     },
     "execution_count": 36,
     "metadata": {},
     "output_type": "execute_result"
    }
   ],
   "source": [
    "selecionar_evento([[0, 1], [0, 3], [1, 3]])"
   ]
  },
  {
   "attachments": {},
   "cell_type": "markdown",
   "metadata": {},
   "source": [
    "## Problema da mochila fracionária"
   ]
  },
  {
   "cell_type": "code",
   "execution_count": null,
   "metadata": {
    "vscode": {
     "languageId": "python"
    }
   },
   "outputs": [],
   "source": [
    "import pandas as pd"
   ]
  },
  {
   "cell_type": "code",
   "execution_count": null,
   "metadata": {
    "vscode": {
     "languageId": "python"
    }
   },
   "outputs": [],
   "source": [
    "k:int = 0\n",
    "n:int = 0\n",
    "w:list[float] = []\n",
    "v:list[float] = []\n",
    "mochila:pd.DataFrame = pd.DataFrame()"
   ]
  },
  {
   "cell_type": "code",
   "execution_count": null,
   "metadata": {
    "vscode": {
     "languageId": "python"
    }
   },
   "outputs": [],
   "source": [
    "def put(n:int, k:int, w:list[float], v:list[float], mochila:pd.DataFrame)->pd.DataFrame:\n",
    "    item:pd.DataFrame = pd.DataFrame()\n",
    "    mochila.sort(by=\"Satisfação\", inplace=True)\n",
    "    S:pd.DataFrame = pd.DataFrame({\"ID\":0,\"Alimento\":,\"Gramas\":w[0],\"Satisfação\":v[0]})\n",
    "    for i in range(0,len(mochila)):\n",
    "        if(mochila['Pesso'][i] <= k):\n",
    "            k = k - mochila['Pesso'][i]\n",
    "            item = pd.DataFrame({\"ID\":0,\"Alimento\":mochila['Alimento'][i],\"Gramas\":mochila['Gramas'][i],\"Satisfação\":mochila['Satisfção'][i],\"Fração\": mochila['Pesso'][i]}) \n",
    "        else\n",
    "            item = pd.DataFrame({\"ID\":0,\"Alimento\":mochila['Alimento'][i],\"Gramas\":mochila['Gramas'][i],\"Satisfação\":mochila['Satisfção'][i],\"Fração\": k/mochila['Pesso'][i]}) \n",
    "            k = 0\n",
    "        S = pd.concat([S, item])\n",
    "    return S"
   ]
  },
  {
   "cell_type": "code",
   "execution_count": null,
   "metadata": {
    "vscode": {
     "languageId": "python"
    }
   },
   "outputs": [],
   "source": [
    "def put(n:int, k:int, w:list[float], v:list[float], mochila:pd.DataFrame)->pd.DataFrame:\n",
    "    item:pd.DataFrame = pd.DataFrame()\n",
    "    S:pd.DataFrame = pd.DataFrame({\"ID\":0,\"Alimento\":,\"Gramas\":w[0],\"Satisfação\":v[0]})\n",
    "    for i in range(0,len(mochila)):\n",
    "        if(mochila['Pesso'][i] <= k):\n",
    "            k = k - mochila['Pesso'][i]\n",
    "            item = pd.DataFrame({\"ID\":0,\"Alimento\":mochila['Alimento'][i],\"Gramas\":mochila['Gramas'][i],\"Satisfação\":mochila['Satisfção'][i],\"Fração\": mochila['Pesso'][i]}) \n",
    "        else\n",
    "            item = pd.DataFrame({\"ID\":0,\"Alimento\":mochila['Alimento'][i],\"Gramas\":mochila['Gramas'][i],\"Satisfação\":mochila['Satisfção'][i],\"Fração\": k/mochila['Pesso'][i]}) \n",
    "            k = 0\n",
    "        S = pd.concat([S, item])\n",
    "    return S"
   ]
  },
  {
   "attachments": {},
   "cell_type": "markdown",
   "metadata": {},
   "source": [
    "## Problema de caching offline"
   ]
  },
  {
   "cell_type": "code",
   "execution_count": null,
   "metadata": {
    "vscode": {
     "languageId": "python"
    }
   },
   "outputs": [],
   "source": [
    "v:list[] = []"
   ]
  },
  {
   "cell_type": "code",
   "execution_count": null,
   "metadata": {
    "vscode": {
     "languageId": "python"
    }
   },
   "outputs": [],
   "source": [
    "def count_index(index:int, k:int, v:list[int], cache:list[int], count_page:list[int]) -> list[int]:\n",
    "    if index < k:\n",
    "        for i in range(left: right):\n",
    "            if cache[index] == v[i]:\n",
    "                count_page[index] += 1\n",
    "        (index + 1, k, v, cache, count_page)\n",
    "    return count_page"
   ]
  },
  {
   "cell_type": "code",
   "execution_count": null,
   "metadata": {
    "vscode": {
     "languageId": "python"
    }
   },
   "outputs": [],
   "source": [
    "def offline_cache(v:list[int], left:int, right:int) -> list[int]:\n",
    "    if left < right:\n",
    "        middle:int = len(v)/k\n",
    "        offline_cache(v, middle + 1, right)\n",
    "        offline_cache(v, left, middle + 1)\n",
    "        count_index(index + 1, k, v[left:right], cache, count_page)"
   ]
  },
  {
   "cell_type": "code",
   "execution_count": null,
   "metadata": {
    "vscode": {
     "languageId": "python"
    }
   },
   "outputs": [],
   "source": [
    "min(offline_cache(v, left, right))"
   ]
  },
  {
   "attachments": {},
   "cell_type": "markdown",
   "metadata": {},
   "source": [
    "## Exercício 06"
   ]
  },
  {
   "cell_type": "code",
   "execution_count": null,
   "metadata": {
    "vscode": {
     "languageId": "python"
    }
   },
   "outputs": [],
   "source": [
    "def (n:int, autonomia:int, distacia:list[int]) -> int:\n",
    "    S:int = 0\n",
    "    for d in distancia:\n",
    "        if c == d:\n",
    "            d\n",
    "            c = 0\n",
    "        elif c > d:\n",
    "            c = c - d\n",
    "        elif c -\n",
    "\n",
    "\n",
    "    return -1 "
   ]
  },
  {
   "attachments": {},
   "cell_type": "markdown",
   "metadata": {},
   "source": [
    "## Exercício 7"
   ]
  },
  {
   "cell_type": "code",
   "execution_count": null,
   "metadata": {
    "vscode": {
     "languageId": "python"
    }
   },
   "outputs": [],
   "source": [
    "from operator import itemgetter, attrgetter\n",
    "def inclusao_de_subset(reta:list[list[int]]):\n",
    "    teto:int = 0\n",
    "    S:list[list[int]] = list(list())\n",
    "    RaioLista:list[float] = []\n",
    "    sorted(reta, itemgetter(1)) \n",
    "    teto = reta[len(reta)][1]\n",
    "\n",
    "    for item in reta:\n",
    "        RaioLista.append([item, item[0][1] - item[0][0]])\n",
    "    \n",
    "    sorted(RaioLista, itemgetter(1))\n",
    "\n",
    "    RaioLista = RaioLista[::-1]\n",
    "    for item in RaioLista:\n",
    "        if item[0][1] <= teto:\n",
    "            S.append(item[0][0])\n",
    "            teto = teto - item[0][1]\n",
    "    \n",
    "    return S"
   ]
  },
  {
   "cell_type": "code",
   "execution_count": null,
   "metadata": {
    "vscode": {
     "languageId": "python"
    }
   },
   "outputs": [],
   "source": [
    "inclusao_de_subset(reta)"
   ]
  }
 ],
 "metadata": {
  "kernelspec": {
   "display_name": "Python 3 (ipykernel)",
   "language": "python",
   "name": "python3"
  },
  "orig_nbformat": 4
 },
 "nbformat": 4,
 "nbformat_minor": 2
}
